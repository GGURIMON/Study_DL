{
 "cells": [
  {
   "cell_type": "code",
   "execution_count": 39,
   "id": "flexible-belize",
   "metadata": {},
   "outputs": [],
   "source": [
    "import tensorflow as tf\n",
    "from tensorflow import keras\n",
    "from tensorflow.keras.layers import Dense, Dropout, GlobalAveragePooling2D\n",
    "from tensorflow.keras.applications import ResNet50\n",
    "from tensorflow.keras.datasets import cifar10\n",
    "from tensorflow.keras.models import Sequential\n",
    "from tensorflow.keras import layers, models"
   ]
  },
  {
   "cell_type": "code",
   "execution_count": 40,
   "id": "manual-century",
   "metadata": {},
   "outputs": [],
   "source": [
    "(train_images, train_labels), (test_images, test_labels) = cifar10.load_data()"
   ]
  },
  {
   "cell_type": "code",
   "execution_count": 41,
   "id": "potential-decision",
   "metadata": {},
   "outputs": [],
   "source": [
    "train_images = train_images / 255.0\n",
    "test_images = test_images / 255.0"
   ]
  },
  {
   "cell_type": "code",
   "execution_count": 42,
   "id": "fixed-delight",
   "metadata": {},
   "outputs": [],
   "source": [
    "train_labels, test_labels = keras.utils.to_categorical(train_labels), keras.utils.to_categorical(test_labels)"
   ]
  },
  {
   "cell_type": "code",
   "execution_count": 43,
   "id": "modified-breeding",
   "metadata": {},
   "outputs": [],
   "source": [
    "base_model = keras.applications.ResNet50(weights = 'imagenet', include_top = False, input_shape = (32, 32, 3))\n",
    "\n",
    "base_model.trainable = False\n",
    "\n",
    "model = Sequential([\n",
    "    base_model,\n",
    "    GlobalAveragePooling2D(),\n",
    "    Dense(256, activation = 'relu'),\n",
    "    Dropout(0.5),\n",
    "    Dense(10, activation = 'softmax')\n",
    "])"
   ]
  },
  {
   "cell_type": "code",
   "execution_count": 44,
   "id": "formal-language",
   "metadata": {},
   "outputs": [],
   "source": [
    "model.compile(optimizer = 'adam', loss = 'categorical_crossentropy', metrics = ['accuracy'])"
   ]
  },
  {
   "cell_type": "code",
   "execution_count": 45,
   "id": "amateur-bargain",
   "metadata": {},
   "outputs": [],
   "source": [
    "from tensorflow.keras.callbacks import ModelCheckpoint, EarlyStopping\n",
    "\n",
    "checkpoint_cb = ModelCheckpoint('best.keras', save_best_only = True)\n",
    "early_stopping = EarlyStopping(patience=10, restore_best_weights = True)"
   ]
  },
  {
   "cell_type": "code",
   "execution_count": 46,
   "id": "potential-corruption",
   "metadata": {},
   "outputs": [
    {
     "name": "stdout",
     "output_type": "stream",
     "text": [
      "Epoch 1/30\n",
      "1563/1563 [==============================] - 27s 15ms/step - loss: 2.3507 - accuracy: 0.1050 - val_loss: 2.3065 - val_accuracy: 0.1005\n",
      "Epoch 2/30\n",
      "1563/1563 [==============================] - 22s 14ms/step - loss: 2.3034 - accuracy: 0.0985 - val_loss: 2.3026 - val_accuracy: 0.1000\n",
      "Epoch 3/30\n",
      "1563/1563 [==============================] - 23s 14ms/step - loss: 2.3028 - accuracy: 0.0967 - val_loss: 2.3027 - val_accuracy: 0.1000\n",
      "Epoch 4/30\n",
      "1563/1563 [==============================] - 23s 15ms/step - loss: 2.3027 - accuracy: 0.1008 - val_loss: 2.3026 - val_accuracy: 0.1000\n",
      "Epoch 5/30\n",
      "1563/1563 [==============================] - 23s 15ms/step - loss: 2.3027 - accuracy: 0.0979 - val_loss: 2.3026 - val_accuracy: 0.1000\n",
      "Epoch 6/30\n",
      "1563/1563 [==============================] - 23s 14ms/step - loss: 2.3027 - accuracy: 0.0967 - val_loss: 2.3026 - val_accuracy: 0.1000\n",
      "Epoch 7/30\n",
      "1563/1563 [==============================] - 23s 15ms/step - loss: 2.3028 - accuracy: 0.1024 - val_loss: 2.3026 - val_accuracy: 0.1000\n",
      "Epoch 8/30\n",
      "1563/1563 [==============================] - 23s 14ms/step - loss: 2.3028 - accuracy: 0.0951 - val_loss: 2.3026 - val_accuracy: 0.1000\n",
      "Epoch 9/30\n",
      "1563/1563 [==============================] - 23s 15ms/step - loss: 2.3027 - accuracy: 0.0996 - val_loss: 2.3026 - val_accuracy: 0.1000\n",
      "Epoch 10/30\n",
      "1563/1563 [==============================] - 23s 15ms/step - loss: 2.3027 - accuracy: 0.0973 - val_loss: 2.3026 - val_accuracy: 0.1000\n",
      "Epoch 11/30\n",
      "1563/1563 [==============================] - 23s 15ms/step - loss: 2.3028 - accuracy: 0.0969 - val_loss: 2.3027 - val_accuracy: 0.1000\n",
      "Epoch 12/30\n",
      "1563/1563 [==============================] - 23s 15ms/step - loss: 2.3027 - accuracy: 0.0993 - val_loss: 2.3026 - val_accuracy: 0.1000\n",
      "Epoch 13/30\n",
      "1563/1563 [==============================] - 23s 15ms/step - loss: 2.3028 - accuracy: 0.0982 - val_loss: 2.3026 - val_accuracy: 0.1000\n",
      "Epoch 14/30\n",
      "1563/1563 [==============================] - 23s 14ms/step - loss: 2.3027 - accuracy: 0.1010 - val_loss: 2.3026 - val_accuracy: 0.1000\n"
     ]
    },
    {
     "data": {
      "text/plain": [
       "<tensorflow.python.keras.callbacks.History at 0x7f154a0dda60>"
      ]
     },
     "execution_count": 46,
     "metadata": {},
     "output_type": "execute_result"
    }
   ],
   "source": [
    "model.fit(train_images, train_labels, validation_data=(test_images, test_labels), epochs=30, callbacks=[checkpoint_cb, early_stopping])"
   ]
  },
  {
   "cell_type": "code",
   "execution_count": 47,
   "id": "considerable-listening",
   "metadata": {},
   "outputs": [],
   "source": [
    "import tensorflow as tf\n",
    "from tensorflow import keras\n",
    "from tensorflow.keras.datasets import mnist\n",
    "from tensorflow.keras.layers import Dense, Dropout, MaxPooling2D, Conv2D, Flatten"
   ]
  },
  {
   "cell_type": "code",
   "execution_count": 48,
   "id": "extensive-pavilion",
   "metadata": {},
   "outputs": [
    {
     "name": "stdout",
     "output_type": "stream",
     "text": [
      "Downloading data from https://storage.googleapis.com/tensorflow/tf-keras-datasets/mnist.npz\n",
      "11493376/11490434 [==============================] - 1s 0us/step\n"
     ]
    }
   ],
   "source": [
    "(X_train, y_train), (X_test, y_test) = mnist.load_data()"
   ]
  },
  {
   "cell_type": "code",
   "execution_count": 50,
   "id": "premium-ribbon",
   "metadata": {},
   "outputs": [],
   "source": [
    "X_train = X_train.reshape(-1, 28, 28, 1) / 255.0\n",
    "X_test = X_test.reshape(-1, 28, 28, 1) / 255.0"
   ]
  },
  {
   "cell_type": "code",
   "execution_count": 52,
   "id": "chicken-initial",
   "metadata": {},
   "outputs": [],
   "source": [
    "from tensorflow.keras.models import Sequential, Model\n",
    "from tensorflow.keras.layers import Input"
   ]
  },
  {
   "cell_type": "code",
   "execution_count": 53,
   "id": "healthy-comment",
   "metadata": {},
   "outputs": [],
   "source": [
    "model = Sequential([\n",
    "    Conv2D(64, (3, 3), padding = 'same', activation = 'relu', input_shape = (28, 28, 1)),\n",
    "    MaxPooling2D(pool_size = (2, 2)),\n",
    "    Conv2D(64, (3, 3), padding = 'same', activation = 'relu'),\n",
    "    MaxPooling2D(pool_size = (2, 2)),\n",
    "    Flatten(),\n",
    "    Dense(64, activation = 'relu'),\n",
    "    Dense(32, activation = 'relu'),\n",
    "    Dense(10, activation = 'softmax')\n",
    "])"
   ]
  },
  {
   "cell_type": "code",
   "execution_count": 54,
   "id": "armed-preservation",
   "metadata": {},
   "outputs": [],
   "source": [
    "model.compile(optimizer = 'adam', loss = 'sparse_categorical_crossentropy', metrics = ['accuracy'])"
   ]
  },
  {
   "cell_type": "code",
   "execution_count": 55,
   "id": "banned-birthday",
   "metadata": {},
   "outputs": [
    {
     "name": "stdout",
     "output_type": "stream",
     "text": [
      "Model: \"sequential_4\"\n",
      "_________________________________________________________________\n",
      "Layer (type)                 Output Shape              Param #   \n",
      "=================================================================\n",
      "conv2d (Conv2D)              (None, 28, 28, 64)        640       \n",
      "_________________________________________________________________\n",
      "max_pooling2d (MaxPooling2D) (None, 14, 14, 64)        0         \n",
      "_________________________________________________________________\n",
      "conv2d_1 (Conv2D)            (None, 14, 14, 64)        36928     \n",
      "_________________________________________________________________\n",
      "max_pooling2d_1 (MaxPooling2 (None, 7, 7, 64)          0         \n",
      "_________________________________________________________________\n",
      "flatten (Flatten)            (None, 3136)              0         \n",
      "_________________________________________________________________\n",
      "dense_8 (Dense)              (None, 64)                200768    \n",
      "_________________________________________________________________\n",
      "dense_9 (Dense)              (None, 32)                2080      \n",
      "_________________________________________________________________\n",
      "dense_10 (Dense)             (None, 10)                330       \n",
      "=================================================================\n",
      "Total params: 240,746\n",
      "Trainable params: 240,746\n",
      "Non-trainable params: 0\n",
      "_________________________________________________________________\n"
     ]
    }
   ],
   "source": [
    "model.summary()"
   ]
  },
  {
   "cell_type": "code",
   "execution_count": 57,
   "id": "steady-jerusalem",
   "metadata": {},
   "outputs": [
    {
     "name": "stdout",
     "output_type": "stream",
     "text": [
      "Epoch 1/10\n",
      "1875/1875 - 14s - loss: 0.1423 - accuracy: 0.9560 - val_loss: 0.0470 - val_accuracy: 0.9855\n",
      "Epoch 2/10\n",
      "1875/1875 - 4s - loss: 0.0473 - accuracy: 0.9854 - val_loss: 0.0375 - val_accuracy: 0.9864\n",
      "Epoch 3/10\n",
      "1875/1875 - 4s - loss: 0.0322 - accuracy: 0.9900 - val_loss: 0.0342 - val_accuracy: 0.9893\n",
      "Epoch 4/10\n",
      "1875/1875 - 4s - loss: 0.0254 - accuracy: 0.9918 - val_loss: 0.0326 - val_accuracy: 0.9896\n",
      "Epoch 5/10\n",
      "1875/1875 - 4s - loss: 0.0189 - accuracy: 0.9936 - val_loss: 0.0314 - val_accuracy: 0.9902\n",
      "Epoch 6/10\n",
      "1875/1875 - 4s - loss: 0.0153 - accuracy: 0.9949 - val_loss: 0.0348 - val_accuracy: 0.9897\n",
      "Epoch 7/10\n",
      "1875/1875 - 4s - loss: 0.0119 - accuracy: 0.9965 - val_loss: 0.0438 - val_accuracy: 0.9869\n",
      "Epoch 8/10\n",
      "1875/1875 - 4s - loss: 0.0115 - accuracy: 0.9965 - val_loss: 0.0360 - val_accuracy: 0.9918\n",
      "Epoch 9/10\n",
      "1875/1875 - 4s - loss: 0.0093 - accuracy: 0.9971 - val_loss: 0.0326 - val_accuracy: 0.9917\n",
      "Epoch 10/10\n",
      "1875/1875 - 4s - loss: 0.0085 - accuracy: 0.9974 - val_loss: 0.0327 - val_accuracy: 0.9915\n"
     ]
    },
    {
     "data": {
      "text/plain": [
       "<tensorflow.python.keras.callbacks.History at 0x7f156bff6100>"
      ]
     },
     "execution_count": 57,
     "metadata": {},
     "output_type": "execute_result"
    }
   ],
   "source": [
    "model.fit(X_train, y_train, validation_data = (X_test, y_test), epochs = 10, verbose = 2)"
   ]
  },
  {
   "cell_type": "code",
   "execution_count": 58,
   "id": "political-handy",
   "metadata": {},
   "outputs": [
    {
     "name": "stdout",
     "output_type": "stream",
     "text": [
      "313/313 - 0s - loss: 0.0327 - accuracy: 0.9915\n",
      "test_loss: 0.032714299857616425\n",
      "test_accuracy: 0.9915000200271606\n"
     ]
    }
   ],
   "source": [
    "test_loss, test_accuracy = model.evaluate(X_test, y_test, verbose = 2)\n",
    "print(f\"test_loss: {test_loss}\")\n",
    "print(f\"test_accuracy: {test_accuracy}\")"
   ]
  },
  {
   "cell_type": "code",
   "execution_count": 60,
   "id": "lightweight-decrease",
   "metadata": {},
   "outputs": [],
   "source": [
    "import numpy as np"
   ]
  },
  {
   "cell_type": "code",
   "execution_count": 61,
   "id": "steady-netscape",
   "metadata": {},
   "outputs": [
    {
     "name": "stdout",
     "output_type": "stream",
     "text": [
      "model.predict() 결과 :  [8.2472396e-15 3.3347630e-10 2.4742700e-14 3.2092081e-13 6.2792928e-15\n",
      " 3.4443951e-14 2.6858505e-18 1.0000000e+00 2.7754372e-13 2.9563263e-09]\n",
      "model이 추론한 가장 가능성이 높은 결과 :  7\n",
      "실제 데이터의 라벨 :  7\n"
     ]
    }
   ],
   "source": [
    "predicted_result = model.predict(X_test)  # model이 추론한 확률값. \n",
    "predicted_labels = np.argmax(predicted_result, axis=1)\n",
    "\n",
    "idx=0  #1번째 x_test를 살펴보자. \n",
    "print('model.predict() 결과 : ', predicted_result[idx])\n",
    "print('model이 추론한 가장 가능성이 높은 결과 : ', predicted_labels[idx])\n",
    "print('실제 데이터의 라벨 : ', y_test[idx])"
   ]
  },
  {
   "cell_type": "code",
   "execution_count": 64,
   "id": "speaking-combining",
   "metadata": {},
   "outputs": [
    {
     "data": {
      "image/png": "[encoded data removed]",
      "text/plain": [
       "<Figure size 432x288 with 1 Axes>"
      ]
     },
     "metadata": {
      "needs_background": "light"
     },
     "output_type": "display_data"
    }
   ],
   "source": [
    "import matplotlib.pyplot as plt\n",
    "\n",
    "plt.imshow(X_test[idx],cmap=plt.cm.binary)\n",
    "plt.show()"
   ]
  },
  {
   "cell_type": "code",
   "execution_count": 66,
   "id": "mineral-playlist",
   "metadata": {},
   "outputs": [
    {
     "name": "stdout",
     "output_type": "stream",
     "text": [
      "예측확률분포: [7.2675758e-13 1.1157199e-05 3.4369799e-07 1.0552351e-10 9.0744250e-02\n",
      " 1.7148397e-09 5.7417920e-10 9.0924394e-01 2.4041158e-08 3.1532824e-07]\n",
      "라벨: 4, 예측결과: 7\n"
     ]
    },
    {
     "data": {
      "image/png": "[encoded data removed]",
      "text/plain": [
       "<Figure size 432x288 with 1 Axes>"
      ]
     },
     "metadata": {
      "needs_background": "light"
     },
     "output_type": "display_data"
    },
    {
     "name": "stdout",
     "output_type": "stream",
     "text": [
      "예측확률분포: [3.1387682e-07 3.6141645e-07 1.5898162e-07 4.4617409e-04 5.3627018e-06\n",
      " 6.7660592e-05 1.1204843e-07 1.4189392e-06 5.5706435e-01 4.4241413e-01]\n",
      "라벨: 9, 예측결과: 8\n"
     ]
    },
    {
     "data": {
      "image/png": "[encoded data removed]",
      "text/plain": [
       "<Figure size 432x288 with 1 Axes>"
      ]
     },
     "metadata": {
      "needs_background": "light"
     },
     "output_type": "display_data"
    },
    {
     "name": "stdout",
     "output_type": "stream",
     "text": [
      "예측확률분포: [7.8462231e-13 7.5563129e-09 2.0561992e-01 1.1510436e-06 1.8502854e-09\n",
      " 3.1798682e-13 9.1054646e-12 7.9437894e-01 6.8012422e-09 7.4506391e-12]\n",
      "라벨: 2, 예측결과: 7\n"
     ]
    },
    {
     "data": {
      "image/png": "[encoded data removed]",
      "text/plain": [
       "<Figure size 432x288 with 1 Axes>"
      ]
     },
     "metadata": {
      "needs_background": "light"
     },
     "output_type": "display_data"
    },
    {
     "name": "stdout",
     "output_type": "stream",
     "text": [
      "예측확률분포: [8.7227303e-01 8.9600326e-06 3.2173704e-02 2.4143997e-06 1.5153402e-02\n",
      " 1.9602722e-04 1.7946634e-03 4.0765171e-04 1.9859057e-02 5.8131158e-02]\n",
      "라벨: 9, 예측결과: 0\n"
     ]
    },
    {
     "data": {
      "image/png": "[encoded data removed]",
      "text/plain": [
       "<Figure size 432x288 with 1 Axes>"
      ]
     },
     "metadata": {
      "needs_background": "light"
     },
     "output_type": "display_data"
    },
    {
     "name": "stdout",
     "output_type": "stream",
     "text": [
      "예측확률분포: [1.6539749e-05 9.3458130e-10 1.5824505e-11 2.0665447e-10 7.4448808e-10\n",
      " 1.6592026e-01 8.3397382e-01 1.2099074e-11 8.9287860e-05 2.2631315e-07]\n",
      "라벨: 5, 예측결과: 6\n"
     ]
    },
    {
     "data": {
      "image/png": "[encoded data removed]",
      "text/plain": [
       "<Figure size 432x288 with 1 Axes>"
      ]
     },
     "metadata": {
      "needs_background": "light"
     },
     "output_type": "display_data"
    }
   ],
   "source": [
    "import random\n",
    "wrong_predict_list=[]\n",
    "for i, _ in enumerate(predicted_labels):\n",
    "    # i번째 test_labels과 y_test이 다른 경우만 모아 봅시다. \n",
    "    if predicted_labels[i] != y_test[i]:\n",
    "        wrong_predict_list.append(i)\n",
    "\n",
    "# wrong_predict_list 에서 랜덤하게 5개만 뽑아봅시다.\n",
    "samples = random.choices(population=wrong_predict_list, k=5)\n",
    "\n",
    "for n in samples:\n",
    "    print(\"예측확률분포: \" + str(predicted_result[n]))\n",
    "    print(\"라벨: \" + str(y_test[n]) + \", 예측결과: \" + str(predicted_labels[n]))\n",
    "    plt.imshow(X_test[n], cmap=plt.cm.binary)\n",
    "    plt.show()"
   ]
  },
  {
   "cell_type": "code",
   "execution_count": 71,
   "id": "continuous-catholic",
   "metadata": {},
   "outputs": [
    {
     "name": "stdout",
     "output_type": "stream",
     "text": [
      "total 3\n",
      "drwxr-xr-x 2 jovyan users 4096 Aug  8 03:52 paper\n",
      "drwxr-xr-x 2 jovyan users 4096 Aug  8 03:52 rock\n",
      "drwxr-xr-x 2 jovyan users 4096 Aug  8 03:52 scissor\n"
     ]
    }
   ],
   "source": [
    "# 디렉토리 만들기\n",
    "!mkdir -p ~/contents/rock_scissor_paper/scissor\n",
    "!mkdir -p ~/contents/rock_scissor_paper/rock\n",
    "!mkdir -p ~/contents/rock_scissor_paper/paper\n",
    "\n",
    "# 디렉토리 내용 확인\n",
    "!ls -l ~/contents/rock_scissor_paper"
   ]
  },
  {
   "cell_type": "code",
   "execution_count": 197,
   "id": "developed-slope",
   "metadata": {},
   "outputs": [
    {
     "name": "stdout",
     "output_type": "stream",
     "text": [
      "ls: cannot access '/home/jovyan/data.zip': No such file or directory\n"
     ]
    }
   ],
   "source": [
    "!ls -l ~/data.zip"
   ]
  },
  {
   "cell_type": "code",
   "execution_count": 198,
   "id": "approximate-medicare",
   "metadata": {},
   "outputs": [
    {
     "name": "stdout",
     "output_type": "stream",
     "text": [
      "/home/jovyan\n"
     ]
    }
   ],
   "source": [
    "!pwd"
   ]
  },
  {
   "cell_type": "code",
   "execution_count": 199,
   "id": "sapphire-embassy",
   "metadata": {},
   "outputs": [
    {
     "name": "stdout",
     "output_type": "stream",
     "text": [
      "530  images to be resized.\n",
      "530  images resized.\n",
      "가위 이미지 resize 완료!\n"
     ]
    }
   ],
   "source": [
    "from PIL import Image\n",
    "import glob\n",
    "import os\n",
    "\n",
    "\n",
    "def resize_images(img_path):\n",
    "    images=glob.glob(img_path + \"/*.jpg\")  \n",
    "    \n",
    "    print(len(images), \" images to be resized.\")\n",
    "\n",
    "    # 파일마다 모두 28x28 사이즈로 바꾸어 저장합니다.\n",
    "    target_size=(28,28)\n",
    "    for img in images:\n",
    "        old_img=Image.open(img)\n",
    "        new_img=old_img.resize(target_size,Image.ANTIALIAS)\n",
    "        new_img.save(img, \"JPEG\")\n",
    "    \n",
    "    print(len(images), \" images resized.\")\n",
    "    \n",
    "# 가위 이미지가 저장된 디렉토리 아래의 모든 jpg 파일을 읽어들여서\n",
    "image_dir_path = os.getenv(\"HOME\") + \"/contents/rock_scissor_paper/scissor\"\n",
    "resize_images(image_dir_path)\n",
    "\n",
    "print(\"가위 이미지 resize 완료!\")"
   ]
  },
  {
   "cell_type": "code",
   "execution_count": 200,
   "id": "excited-religious",
   "metadata": {},
   "outputs": [
    {
     "name": "stdout",
     "output_type": "stream",
     "text": [
      "1142  images to be resized.\n",
      "1142  images resized.\n",
      "바위 이미지 resize 완료!\n",
      "738  images to be resized.\n",
      "738  images resized.\n",
      "보 이미지 resize 완료!\n"
     ]
    }
   ],
   "source": [
    "image_dir_path = os.getenv(\"HOME\") + \"/contents/rock_scissor_paper/rock\"\n",
    "resize_images(image_dir_path)\n",
    "print(\"바위 이미지 resize 완료!\")\n",
    "image_dir_path = os.getenv(\"HOME\") + \"/contents/rock_scissor_paper/paper\"\n",
    "resize_images(image_dir_path)\n",
    "print(\"보 이미지 resize 완료!\")"
   ]
  },
  {
   "cell_type": "code",
   "execution_count": 218,
   "id": "considered-overhead",
   "metadata": {},
   "outputs": [
    {
     "name": "stdout",
     "output_type": "stream",
     "text": [
      "학습데이터(X)의 이미지 개수는 2410 입니다.\n"
     ]
    }
   ],
   "source": [
    "def load_data(img_path, number_of_data=2410):  # 가위바위보 이미지 개수 총합에 주의하세요.\n",
    "    # 가위 : 0, 바위 : 1, 보 : 2\n",
    "    img_size = 28\n",
    "    color = 3\n",
    "    # 이미지 데이터와 라벨(가위 : 0, 바위 : 1, 보 : 2) 데이터를 담을 행렬(matrix) 영역을 생성합니다.\n",
    "    imgs = np.zeros(number_of_data * img_size * img_size * color, dtype=np.int32).reshape(number_of_data, img_size, img_size, color)\n",
    "    labels = np.zeros(number_of_data, dtype=np.int32)\n",
    "\n",
    "    idx = 0\n",
    "    for file in glob.iglob(img_path + '/scissor/*.jpg'):\n",
    "        img = np.array(Image.open(file), dtype=np.int32)\n",
    "        imgs[idx, :, :, :] = img  # 데이터 영역에 이미지 행렬을 복사\n",
    "        labels[idx] = 0  # 가위 : 0\n",
    "        idx = idx + 1\n",
    "\n",
    "    for file in glob.iglob(img_path + '/rock/*.jpg'):\n",
    "        img = np.array(Image.open(file), dtype=np.int32)\n",
    "        imgs[idx, :, :, :] = img  # 데이터 영역에 이미지 행렬을 복사\n",
    "        labels[idx] = 1  # 바위 : 1\n",
    "        idx = idx + 1\n",
    "\n",
    "    for file in glob.iglob(img_path + '/paper/*.jpg'):\n",
    "        img = np.array(Image.open(file), dtype=np.int32)\n",
    "        imgs[idx, :, :, :] = img  # 데이터 영역에 이미지 행렬을 복사\n",
    "        labels[idx] = 2  # 보 : 2\n",
    "        idx = idx + 1\n",
    "\n",
    "    print(\"학습데이터(X)의 이미지 개수는\", idx, \"입니다.\")\n",
    "    return imgs, labels\n",
    "\n",
    "image_dir_path = os.getenv(\"HOME\") + \"/contents/rock_scissor_paper\"\n",
    "(X, y) = load_data(image_dir_path)"
   ]
  },
  {
   "cell_type": "code",
   "execution_count": 219,
   "id": "enclosed-scotland",
   "metadata": {},
   "outputs": [
    {
     "data": {
      "text/plain": [
       "((2410, 28, 28, 3), (2410,))"
      ]
     },
     "execution_count": 219,
     "metadata": {},
     "output_type": "execute_result"
    }
   ],
   "source": [
    "X.shape, y.shape"
   ]
  },
  {
   "cell_type": "code",
   "execution_count": 220,
   "id": "necessary-pencil",
   "metadata": {},
   "outputs": [
    {
     "data": {
      "text/plain": [
       "dtype('int32')"
      ]
     },
     "execution_count": 220,
     "metadata": {},
     "output_type": "execute_result"
    }
   ],
   "source": [
    "X.dtype"
   ]
  },
  {
   "cell_type": "code",
   "execution_count": 221,
   "id": "aquatic-coordination",
   "metadata": {},
   "outputs": [],
   "source": [
    "X = X /255.0"
   ]
  },
  {
   "cell_type": "code",
   "execution_count": 222,
   "id": "racial-electron",
   "metadata": {},
   "outputs": [],
   "source": [
    "from sklearn.model_selection import train_test_split"
   ]
  },
  {
   "cell_type": "code",
   "execution_count": 223,
   "id": "asian-layer",
   "metadata": {},
   "outputs": [],
   "source": [
    "X_train, X_test, y_train, y_test = train_test_split(X, y, test_size=0.4, shuffle=True, random_state=42)"
   ]
  },
  {
   "cell_type": "code",
   "execution_count": 224,
   "id": "numerical-sampling",
   "metadata": {},
   "outputs": [
    {
     "data": {
      "text/plain": [
       "((1446, 28, 28, 3), (964, 28, 28, 3), (1446,), (964,))"
      ]
     },
     "execution_count": 224,
     "metadata": {},
     "output_type": "execute_result"
    }
   ],
   "source": [
    "X_train.shape, X_test.shape, y_train.shape, y_test.shape"
   ]
  },
  {
   "cell_type": "code",
   "execution_count": 225,
   "id": "passive-congress",
   "metadata": {},
   "outputs": [],
   "source": [
    "from tensorflow.keras.callbacks import ModelCheckpoint, EarlyStopping"
   ]
  },
  {
   "cell_type": "code",
   "execution_count": 226,
   "id": "aggressive-boating",
   "metadata": {},
   "outputs": [],
   "source": [
    "checkpoint_cb = ModelCheckpoint(filepath = 'best.keras', monitor = 'val_loss', verbose = 1, save_best_only=True, mode='min', save_freq='epoch')\n",
    "earlystopping_cb = EarlyStopping(monitor = 'val_loss', patience = 10, verbose = 1, mode = 'min', restore_best_weights=True)"
   ]
  },
  {
   "cell_type": "code",
   "execution_count": 243,
   "id": "consolidated-butter",
   "metadata": {},
   "outputs": [],
   "source": [
    "from tensorflow.keras.layers import LeakyReLU, BatchNormalization\n",
    "\n",
    "model = Sequential([\n",
    "    Conv2D(filters=16, kernel_size=(3, 3), padding='same', activation='relu', input_shape=(28, 28, 3)),\n",
    "    Conv2D(filters=32, kernel_size=(3, 3), padding='same', activation='relu'),\n",
    "    MaxPooling2D(pool_size=(2, 2)),\n",
    "    \n",
    "    Conv2D(filters=64, kernel_size=(3, 3), padding='same', activation='relu'),\n",
    "    MaxPooling2D(pool_size=(2, 2)),\n",
    "    \n",
    "    Conv2D(filters=128, kernel_size=(3, 3), padding='same', activation='relu'),\n",
    "    MaxPooling2D(pool_size=(2, 2)),\n",
    "    \n",
    "    Flatten(),\n",
    "    Dense(units=64, activation='relu'),\n",
    "    Dropout(0.5),\n",
    "    \n",
    "    Dense(units=32, activation='relu'),\n",
    "    \n",
    "    Dense(units=3, activation='softmax')\n",
    "])"
   ]
  },
  {
   "cell_type": "code",
   "execution_count": 244,
   "id": "smooth-guarantee",
   "metadata": {},
   "outputs": [],
   "source": [
    "model.compile(optimizer = 'adam', loss = 'sparse_categorical_crossentropy', metrics = ['accuracy'])"
   ]
  },
  {
   "cell_type": "code",
   "execution_count": 245,
   "id": "competent-faculty",
   "metadata": {},
   "outputs": [
    {
     "name": "stdout",
     "output_type": "stream",
     "text": [
      "Epoch 1/200\n",
      "91/91 [==============================] - 1s 6ms/step - loss: 1.0627 - accuracy: 0.4532 - val_loss: 1.0065 - val_accuracy: 0.4730\n",
      "\n",
      "Epoch 00001: val_loss did not improve from 0.04763\n",
      "Epoch 2/200\n",
      "91/91 [==============================] - 0s 4ms/step - loss: 0.9450 - accuracy: 0.5513 - val_loss: 0.5711 - val_accuracy: 0.7656\n",
      "\n",
      "Epoch 00002: val_loss did not improve from 0.04763\n",
      "Epoch 3/200\n",
      "91/91 [==============================] - 0s 5ms/step - loss: 0.5392 - accuracy: 0.7719 - val_loss: 0.2444 - val_accuracy: 0.9149\n",
      "\n",
      "Epoch 00003: val_loss did not improve from 0.04763\n",
      "Epoch 4/200\n",
      "91/91 [==============================] - 0s 5ms/step - loss: 0.2642 - accuracy: 0.9005 - val_loss: 0.2237 - val_accuracy: 0.8942\n",
      "\n",
      "Epoch 00004: val_loss did not improve from 0.04763\n",
      "Epoch 5/200\n",
      "91/91 [==============================] - 0s 4ms/step - loss: 0.2120 - accuracy: 0.9163 - val_loss: 0.1212 - val_accuracy: 0.9388\n",
      "\n",
      "Epoch 00005: val_loss did not improve from 0.04763\n",
      "Epoch 6/200\n",
      "91/91 [==============================] - 0s 4ms/step - loss: 0.0958 - accuracy: 0.9544 - val_loss: 0.0990 - val_accuracy: 0.9471\n",
      "\n",
      "Epoch 00006: val_loss did not improve from 0.04763\n",
      "Epoch 7/200\n",
      "91/91 [==============================] - 0s 5ms/step - loss: 0.0716 - accuracy: 0.9748 - val_loss: 0.1093 - val_accuracy: 0.9564\n",
      "\n",
      "Epoch 00007: val_loss did not improve from 0.04763\n",
      "Epoch 8/200\n",
      "91/91 [==============================] - 0s 4ms/step - loss: 0.0560 - accuracy: 0.9794 - val_loss: 0.1121 - val_accuracy: 0.9575\n",
      "\n",
      "Epoch 00008: val_loss did not improve from 0.04763\n",
      "Epoch 9/200\n",
      "91/91 [==============================] - 0s 5ms/step - loss: 0.0933 - accuracy: 0.9615 - val_loss: 0.1237 - val_accuracy: 0.9647\n",
      "\n",
      "Epoch 00009: val_loss did not improve from 0.04763\n",
      "Epoch 10/200\n",
      "91/91 [==============================] - 0s 5ms/step - loss: 0.0708 - accuracy: 0.9738 - val_loss: 0.0444 - val_accuracy: 0.9824\n",
      "\n",
      "Epoch 00010: val_loss improved from 0.04763 to 0.04437, saving model to best.keras\n",
      "Epoch 11/200\n",
      "91/91 [==============================] - 0s 5ms/step - loss: 0.0300 - accuracy: 0.9963 - val_loss: 0.0461 - val_accuracy: 0.9886\n",
      "\n",
      "Epoch 00011: val_loss did not improve from 0.04437\n",
      "Epoch 12/200\n",
      "91/91 [==============================] - 0s 5ms/step - loss: 0.0312 - accuracy: 0.9887 - val_loss: 0.0459 - val_accuracy: 0.9803\n",
      "\n",
      "Epoch 00012: val_loss did not improve from 0.04437\n",
      "Epoch 13/200\n",
      "91/91 [==============================] - 0s 5ms/step - loss: 0.0097 - accuracy: 0.9988 - val_loss: 0.0504 - val_accuracy: 0.9834\n",
      "\n",
      "Epoch 00013: val_loss did not improve from 0.04437\n",
      "Epoch 14/200\n",
      "91/91 [==============================] - 0s 5ms/step - loss: 0.0073 - accuracy: 0.9991 - val_loss: 0.3649 - val_accuracy: 0.9284\n",
      "\n",
      "Epoch 00014: val_loss did not improve from 0.04437\n",
      "Epoch 15/200\n",
      "91/91 [==============================] - 0s 5ms/step - loss: 0.1174 - accuracy: 0.9704 - val_loss: 0.0488 - val_accuracy: 0.9876\n",
      "\n",
      "Epoch 00015: val_loss did not improve from 0.04437\n",
      "Epoch 16/200\n",
      "91/91 [==============================] - 0s 4ms/step - loss: 0.0156 - accuracy: 0.9951 - val_loss: 0.1259 - val_accuracy: 0.9678\n",
      "\n",
      "Epoch 00016: val_loss did not improve from 0.04437\n",
      "Epoch 17/200\n",
      "91/91 [==============================] - 0s 5ms/step - loss: 0.0205 - accuracy: 0.9937 - val_loss: 0.1206 - val_accuracy: 0.9699\n",
      "\n",
      "Epoch 00017: val_loss did not improve from 0.04437\n",
      "Epoch 18/200\n",
      "91/91 [==============================] - 0s 4ms/step - loss: 0.0116 - accuracy: 0.9964 - val_loss: 0.0626 - val_accuracy: 0.9886\n",
      "\n",
      "Epoch 00018: val_loss did not improve from 0.04437\n",
      "Epoch 19/200\n",
      "91/91 [==============================] - 0s 4ms/step - loss: 0.0082 - accuracy: 0.9988 - val_loss: 0.0741 - val_accuracy: 0.9813\n",
      "\n",
      "Epoch 00019: val_loss did not improve from 0.04437\n",
      "Epoch 20/200\n",
      "91/91 [==============================] - 0s 5ms/step - loss: 0.0125 - accuracy: 0.9954 - val_loss: 0.0285 - val_accuracy: 0.9917\n",
      "\n",
      "Epoch 00020: val_loss improved from 0.04437 to 0.02854, saving model to best.keras\n",
      "Epoch 21/200\n",
      "91/91 [==============================] - 0s 5ms/step - loss: 0.0350 - accuracy: 0.9868 - val_loss: 0.0659 - val_accuracy: 0.9834\n",
      "\n",
      "Epoch 00021: val_loss did not improve from 0.02854\n",
      "Epoch 22/200\n",
      "91/91 [==============================] - 0s 5ms/step - loss: 0.0052 - accuracy: 0.9992 - val_loss: 0.0372 - val_accuracy: 0.9948\n",
      "\n",
      "Epoch 00022: val_loss did not improve from 0.02854\n",
      "Epoch 23/200\n",
      "91/91 [==============================] - 0s 5ms/step - loss: 0.0024 - accuracy: 0.9982 - val_loss: 0.0280 - val_accuracy: 0.9917\n",
      "\n",
      "Epoch 00023: val_loss improved from 0.02854 to 0.02805, saving model to best.keras\n",
      "Epoch 24/200\n",
      "91/91 [==============================] - 0s 5ms/step - loss: 0.0017 - accuracy: 1.0000 - val_loss: 0.0482 - val_accuracy: 0.9907\n",
      "\n",
      "Epoch 00024: val_loss did not improve from 0.02805\n",
      "Epoch 25/200\n",
      "91/91 [==============================] - 0s 5ms/step - loss: 0.0115 - accuracy: 0.9961 - val_loss: 0.1076 - val_accuracy: 0.9637\n",
      "\n",
      "Epoch 00025: val_loss did not improve from 0.02805\n",
      "Epoch 26/200\n",
      "91/91 [==============================] - 0s 5ms/step - loss: 0.0100 - accuracy: 0.9965 - val_loss: 0.0403 - val_accuracy: 0.9907\n",
      "\n",
      "Epoch 00026: val_loss did not improve from 0.02805\n",
      "Epoch 27/200\n",
      "91/91 [==============================] - 0s 4ms/step - loss: 0.0067 - accuracy: 0.9993 - val_loss: 0.0394 - val_accuracy: 0.9907\n",
      "\n",
      "Epoch 00027: val_loss did not improve from 0.02805\n",
      "Epoch 28/200\n",
      "91/91 [==============================] - 0s 5ms/step - loss: 0.0023 - accuracy: 0.9999 - val_loss: 0.0441 - val_accuracy: 0.9907\n",
      "\n",
      "Epoch 00028: val_loss did not improve from 0.02805\n",
      "Epoch 29/200\n",
      "91/91 [==============================] - 0s 4ms/step - loss: 0.0014 - accuracy: 1.0000 - val_loss: 0.0588 - val_accuracy: 0.9907\n",
      "\n",
      "Epoch 00029: val_loss did not improve from 0.02805\n",
      "Epoch 30/200\n",
      "91/91 [==============================] - 0s 4ms/step - loss: 0.0012 - accuracy: 0.9993 - val_loss: 0.0374 - val_accuracy: 0.9938\n",
      "\n",
      "Epoch 00030: val_loss did not improve from 0.02805\n",
      "Epoch 31/200\n",
      "91/91 [==============================] - 0s 4ms/step - loss: 0.0056 - accuracy: 0.9987 - val_loss: 0.0675 - val_accuracy: 0.9772\n",
      "\n",
      "Epoch 00031: val_loss did not improve from 0.02805\n",
      "Epoch 32/200\n",
      "91/91 [==============================] - 0s 4ms/step - loss: 0.0300 - accuracy: 0.9912 - val_loss: 0.0653 - val_accuracy: 0.9751\n",
      "\n",
      "Epoch 00032: val_loss did not improve from 0.02805\n",
      "Epoch 33/200\n",
      "91/91 [==============================] - 0s 4ms/step - loss: 0.0157 - accuracy: 0.9954 - val_loss: 0.0363 - val_accuracy: 0.9886\n",
      "\n",
      "Epoch 00033: val_loss did not improve from 0.02805\n",
      "Restoring model weights from the end of the best epoch.\n",
      "Epoch 00033: early stopping\n"
     ]
    },
    {
     "data": {
      "text/plain": [
       "<tensorflow.python.keras.callbacks.History at 0x7f158e2f6850>"
      ]
     },
     "execution_count": 245,
     "metadata": {},
     "output_type": "execute_result"
    }
   ],
   "source": [
    "model.fit(X_train, y_train, validation_data = (X_test, y_test), epochs = 200, verbose = 1, batch_size = 16, callbacks = [checkpoint_cb, earlystopping_cb])"
   ]
  },
  {
   "cell_type": "code",
   "execution_count": 246,
   "id": "moved-reproduction",
   "metadata": {},
   "outputs": [
    {
     "name": "stdout",
     "output_type": "stream",
     "text": [
      "X_train_norm shape: (1446, 28, 28, 3)\n",
      "y_train shape: (1446,)\n",
      "X_test_norm shape: (964, 28, 28, 3)\n",
      "y_test shape: (964,)\n"
     ]
    }
   ],
   "source": [
    "print(\"X_train_norm shape:\", X_train.shape)\n",
    "print(\"y_train shape:\", y_train.shape)\n",
    "print(\"X_test_norm shape:\", X_test.shape)\n",
    "print(\"y_test shape:\", y_test.shape)"
   ]
  },
  {
   "cell_type": "code",
   "execution_count": 247,
   "id": "romantic-priest",
   "metadata": {},
   "outputs": [
    {
     "name": "stdout",
     "output_type": "stream",
     "text": [
      "31/31 [==============================] - 0s 2ms/step - loss: 0.0280 - accuracy: 0.9917\n",
      "Test loss: 0.02804524265229702\n",
      "Test accuracy: 0.9917012453079224\n"
     ]
    }
   ],
   "source": [
    "# 모델 평가\n",
    "loss, accuracy = model.evaluate(X_test, y_test, verbose=1)\n",
    "print(f\"Test loss: {loss}\")\n",
    "print(f\"Test accuracy: {accuracy}\")"
   ]
  },
  {
   "cell_type": "code",
   "execution_count": 248,
   "id": "worst-cheat",
   "metadata": {},
   "outputs": [],
   "source": [
    "from tensorflow.keras.preprocessing.image import ImageDataGenerator"
   ]
  },
  {
   "cell_type": "code",
   "execution_count": 249,
   "id": "radio-postage",
   "metadata": {},
   "outputs": [
    {
     "name": "stdout",
     "output_type": "stream",
     "text": [
      "Epoch 1/50\n",
      "46/46 [==============================] - 1s 18ms/step - loss: 1.2829 - accuracy: 0.4710 - val_loss: 0.9974 - val_accuracy: 0.5581\n",
      "\n",
      "Epoch 00001: val_loss did not improve from 0.02805\n",
      "Epoch 2/50\n",
      "46/46 [==============================] - 1s 18ms/step - loss: 1.0204 - accuracy: 0.5131 - val_loss: 0.8876 - val_accuracy: 0.5799\n",
      "\n",
      "Epoch 00002: val_loss did not improve from 0.02805\n",
      "Epoch 3/50\n",
      "46/46 [==============================] - 1s 18ms/step - loss: 0.9693 - accuracy: 0.5546 - val_loss: 0.7388 - val_accuracy: 0.6670\n",
      "\n",
      "Epoch 00003: val_loss did not improve from 0.02805\n",
      "Epoch 4/50\n",
      "46/46 [==============================] - 1s 18ms/step - loss: 0.8994 - accuracy: 0.5871 - val_loss: 0.6715 - val_accuracy: 0.6525\n",
      "\n",
      "Epoch 00004: val_loss did not improve from 0.02805\n",
      "Epoch 5/50\n",
      "46/46 [==============================] - 1s 18ms/step - loss: 0.8457 - accuracy: 0.6176 - val_loss: 0.5970 - val_accuracy: 0.7459\n",
      "\n",
      "Epoch 00005: val_loss did not improve from 0.02805\n",
      "Epoch 6/50\n",
      "46/46 [==============================] - 1s 18ms/step - loss: 0.8135 - accuracy: 0.6196 - val_loss: 0.5853 - val_accuracy: 0.8143\n",
      "\n",
      "Epoch 00006: val_loss did not improve from 0.02805\n",
      "Epoch 7/50\n",
      "46/46 [==============================] - 1s 18ms/step - loss: 0.7719 - accuracy: 0.6584 - val_loss: 0.4533 - val_accuracy: 0.8029\n",
      "\n",
      "Epoch 00007: val_loss did not improve from 0.02805\n",
      "Epoch 8/50\n",
      "46/46 [==============================] - 1s 18ms/step - loss: 0.7334 - accuracy: 0.6770 - val_loss: 0.4522 - val_accuracy: 0.8268\n",
      "\n",
      "Epoch 00008: val_loss did not improve from 0.02805\n",
      "Epoch 9/50\n",
      "46/46 [==============================] - 1s 18ms/step - loss: 0.6914 - accuracy: 0.7012 - val_loss: 0.3931 - val_accuracy: 0.8600\n",
      "\n",
      "Epoch 00009: val_loss did not improve from 0.02805\n",
      "Epoch 10/50\n",
      "46/46 [==============================] - 1s 17ms/step - loss: 0.6633 - accuracy: 0.7192 - val_loss: 0.4825 - val_accuracy: 0.7956\n",
      "\n",
      "Epoch 00010: val_loss did not improve from 0.02805\n",
      "Epoch 11/50\n",
      "46/46 [==============================] - 1s 17ms/step - loss: 0.6617 - accuracy: 0.7047 - val_loss: 0.4487 - val_accuracy: 0.8548\n",
      "\n",
      "Epoch 00011: val_loss did not improve from 0.02805\n",
      "Epoch 12/50\n",
      "46/46 [==============================] - 1s 17ms/step - loss: 0.5877 - accuracy: 0.7600 - val_loss: 0.3316 - val_accuracy: 0.8776\n",
      "\n",
      "Epoch 00012: val_loss did not improve from 0.02805\n",
      "Epoch 13/50\n",
      "46/46 [==============================] - 1s 17ms/step - loss: 0.5538 - accuracy: 0.7649 - val_loss: 0.3023 - val_accuracy: 0.8776\n",
      "\n",
      "Epoch 00013: val_loss did not improve from 0.02805\n",
      "Epoch 14/50\n",
      "46/46 [==============================] - 1s 18ms/step - loss: 0.5401 - accuracy: 0.7822 - val_loss: 0.3049 - val_accuracy: 0.8869\n",
      "\n",
      "Epoch 00014: val_loss did not improve from 0.02805\n",
      "Epoch 15/50\n",
      "46/46 [==============================] - 1s 18ms/step - loss: 0.4964 - accuracy: 0.8077 - val_loss: 0.3217 - val_accuracy: 0.8620\n",
      "\n",
      "Epoch 00015: val_loss did not improve from 0.02805\n",
      "Epoch 16/50\n",
      "46/46 [==============================] - 1s 17ms/step - loss: 0.4931 - accuracy: 0.8105 - val_loss: 0.2583 - val_accuracy: 0.9035\n",
      "\n",
      "Epoch 00016: val_loss did not improve from 0.02805\n",
      "Epoch 17/50\n",
      "46/46 [==============================] - 1s 17ms/step - loss: 0.4566 - accuracy: 0.8181 - val_loss: 0.2698 - val_accuracy: 0.8921\n",
      "\n",
      "Epoch 00017: val_loss did not improve from 0.02805\n",
      "Epoch 18/50\n",
      "46/46 [==============================] - 1s 17ms/step - loss: 0.4411 - accuracy: 0.8264 - val_loss: 0.2405 - val_accuracy: 0.9004\n",
      "\n",
      "Epoch 00018: val_loss did not improve from 0.02805\n",
      "Epoch 19/50\n",
      "46/46 [==============================] - 1s 17ms/step - loss: 0.4488 - accuracy: 0.8278 - val_loss: 0.2167 - val_accuracy: 0.9222\n",
      "\n",
      "Epoch 00019: val_loss did not improve from 0.02805\n",
      "Epoch 20/50\n",
      "46/46 [==============================] - 1s 17ms/step - loss: 0.4305 - accuracy: 0.8320 - val_loss: 0.2106 - val_accuracy: 0.9253\n",
      "\n",
      "Epoch 00020: val_loss did not improve from 0.02805\n",
      "Epoch 21/50\n",
      "46/46 [==============================] - 1s 18ms/step - loss: 0.3832 - accuracy: 0.8534 - val_loss: 0.2400 - val_accuracy: 0.9118\n",
      "\n",
      "Epoch 00021: val_loss did not improve from 0.02805\n",
      "Epoch 22/50\n",
      "46/46 [==============================] - 1s 17ms/step - loss: 0.4059 - accuracy: 0.8347 - val_loss: 0.2303 - val_accuracy: 0.9243\n",
      "\n",
      "Epoch 00022: val_loss did not improve from 0.02805\n",
      "Epoch 23/50\n",
      "46/46 [==============================] - 1s 18ms/step - loss: 0.3778 - accuracy: 0.8589 - val_loss: 0.2155 - val_accuracy: 0.9263\n",
      "\n",
      "Epoch 00023: val_loss did not improve from 0.02805\n",
      "Epoch 24/50\n",
      "46/46 [==============================] - 1s 17ms/step - loss: 0.3432 - accuracy: 0.8700 - val_loss: 0.1913 - val_accuracy: 0.9180\n",
      "\n",
      "Epoch 00024: val_loss did not improve from 0.02805\n",
      "Epoch 25/50\n",
      "46/46 [==============================] - 1s 18ms/step - loss: 0.3235 - accuracy: 0.8838 - val_loss: 0.1751 - val_accuracy: 0.9388\n",
      "\n",
      "Epoch 00025: val_loss did not improve from 0.02805\n",
      "Epoch 26/50\n",
      "46/46 [==============================] - 1s 18ms/step - loss: 0.3498 - accuracy: 0.8603 - val_loss: 0.1987 - val_accuracy: 0.9357\n",
      "\n",
      "Epoch 00026: val_loss did not improve from 0.02805\n",
      "Epoch 27/50\n",
      "46/46 [==============================] - 1s 18ms/step - loss: 0.3241 - accuracy: 0.8755 - val_loss: 0.1388 - val_accuracy: 0.9461\n",
      "\n",
      "Epoch 00027: val_loss did not improve from 0.02805\n",
      "Epoch 28/50\n",
      "46/46 [==============================] - 1s 18ms/step - loss: 0.3225 - accuracy: 0.8783 - val_loss: 0.1549 - val_accuracy: 0.9305\n",
      "\n",
      "Epoch 00028: val_loss did not improve from 0.02805\n",
      "Epoch 29/50\n",
      "46/46 [==============================] - 1s 18ms/step - loss: 0.2783 - accuracy: 0.8942 - val_loss: 0.1384 - val_accuracy: 0.9481\n",
      "\n",
      "Epoch 00029: val_loss did not improve from 0.02805\n",
      "Epoch 30/50\n",
      "46/46 [==============================] - 1s 17ms/step - loss: 0.2862 - accuracy: 0.8914 - val_loss: 0.1451 - val_accuracy: 0.9461\n",
      "\n",
      "Epoch 00030: val_loss did not improve from 0.02805\n",
      "Epoch 31/50\n",
      "46/46 [==============================] - 1s 18ms/step - loss: 0.2888 - accuracy: 0.8880 - val_loss: 0.1486 - val_accuracy: 0.9336\n",
      "\n",
      "Epoch 00031: val_loss did not improve from 0.02805\n",
      "Epoch 32/50\n",
      "46/46 [==============================] - 1s 18ms/step - loss: 0.2641 - accuracy: 0.9018 - val_loss: 0.1858 - val_accuracy: 0.9315\n",
      "\n",
      "Epoch 00032: val_loss did not improve from 0.02805\n",
      "Epoch 33/50\n",
      "46/46 [==============================] - 1s 18ms/step - loss: 0.3026 - accuracy: 0.8887 - val_loss: 0.1389 - val_accuracy: 0.9481\n",
      "\n",
      "Epoch 00033: val_loss did not improve from 0.02805\n",
      "Epoch 34/50\n",
      "46/46 [==============================] - 1s 18ms/step - loss: 0.3015 - accuracy: 0.8893 - val_loss: 0.1569 - val_accuracy: 0.9492\n",
      "\n",
      "Epoch 00034: val_loss did not improve from 0.02805\n",
      "Epoch 35/50\n",
      "46/46 [==============================] - 1s 17ms/step - loss: 0.2471 - accuracy: 0.9115 - val_loss: 0.1629 - val_accuracy: 0.9357\n",
      "\n",
      "Epoch 00035: val_loss did not improve from 0.02805\n",
      "Epoch 36/50\n",
      "46/46 [==============================] - 1s 18ms/step - loss: 0.2310 - accuracy: 0.9101 - val_loss: 0.1469 - val_accuracy: 0.9471\n",
      "\n",
      "Epoch 00036: val_loss did not improve from 0.02805\n",
      "Epoch 37/50\n",
      "46/46 [==============================] - 1s 18ms/step - loss: 0.2608 - accuracy: 0.9032 - val_loss: 0.1406 - val_accuracy: 0.9575\n",
      "\n",
      "Epoch 00037: val_loss did not improve from 0.02805\n",
      "Epoch 38/50\n",
      "46/46 [==============================] - 1s 18ms/step - loss: 0.2219 - accuracy: 0.9246 - val_loss: 0.2526 - val_accuracy: 0.9253\n",
      "\n",
      "Epoch 00038: val_loss did not improve from 0.02805\n",
      "Epoch 39/50\n",
      "46/46 [==============================] - 1s 18ms/step - loss: 0.2995 - accuracy: 0.8734 - val_loss: 0.1189 - val_accuracy: 0.9616\n",
      "\n",
      "Epoch 00039: val_loss did not improve from 0.02805\n",
      "Epoch 40/50\n",
      "46/46 [==============================] - 1s 18ms/step - loss: 0.2410 - accuracy: 0.9087 - val_loss: 0.1496 - val_accuracy: 0.9471\n",
      "\n",
      "Epoch 00040: val_loss did not improve from 0.02805\n",
      "Epoch 41/50\n",
      "46/46 [==============================] - 1s 18ms/step - loss: 0.2122 - accuracy: 0.9260 - val_loss: 0.1298 - val_accuracy: 0.9554\n",
      "\n",
      "Epoch 00041: val_loss did not improve from 0.02805\n",
      "Epoch 42/50\n",
      "46/46 [==============================] - 1s 18ms/step - loss: 0.1898 - accuracy: 0.9288 - val_loss: 0.1158 - val_accuracy: 0.9678\n",
      "\n",
      "Epoch 00042: val_loss did not improve from 0.02805\n",
      "Epoch 43/50\n",
      "46/46 [==============================] - 1s 18ms/step - loss: 0.2455 - accuracy: 0.9219 - val_loss: 0.2499 - val_accuracy: 0.9046\n",
      "\n",
      "Epoch 00043: val_loss did not improve from 0.02805\n",
      "Epoch 44/50\n",
      "46/46 [==============================] - 1s 18ms/step - loss: 0.1901 - accuracy: 0.9232 - val_loss: 0.2245 - val_accuracy: 0.9263\n",
      "\n",
      "Epoch 00044: val_loss did not improve from 0.02805\n",
      "Epoch 45/50\n",
      "46/46 [==============================] - 1s 18ms/step - loss: 0.2180 - accuracy: 0.9205 - val_loss: 0.1404 - val_accuracy: 0.9523\n",
      "\n",
      "Epoch 00045: val_loss did not improve from 0.02805\n",
      "Epoch 46/50\n",
      "46/46 [==============================] - 1s 18ms/step - loss: 0.1851 - accuracy: 0.9315 - val_loss: 0.1003 - val_accuracy: 0.9658\n",
      "\n",
      "Epoch 00046: val_loss did not improve from 0.02805\n",
      "Epoch 47/50\n",
      "46/46 [==============================] - 1s 18ms/step - loss: 0.2147 - accuracy: 0.9239 - val_loss: 0.1269 - val_accuracy: 0.9606\n",
      "\n",
      "Epoch 00047: val_loss did not improve from 0.02805\n",
      "Epoch 48/50\n",
      "46/46 [==============================] - 1s 18ms/step - loss: 0.1976 - accuracy: 0.9295 - val_loss: 0.1238 - val_accuracy: 0.9616\n",
      "\n",
      "Epoch 00048: val_loss did not improve from 0.02805\n",
      "Epoch 49/50\n",
      "46/46 [==============================] - 1s 18ms/step - loss: 0.1840 - accuracy: 0.9364 - val_loss: 0.1048 - val_accuracy: 0.9627\n",
      "\n",
      "Epoch 00049: val_loss did not improve from 0.02805\n",
      "Epoch 50/50\n",
      "46/46 [==============================] - 1s 18ms/step - loss: 0.1658 - accuracy: 0.9419 - val_loss: 0.1191 - val_accuracy: 0.9678\n",
      "\n",
      "Epoch 00050: val_loss did not improve from 0.02805\n"
     ]
    },
    {
     "data": {
      "image/png": "[encoded data removed]",
      "text/plain": [
       "<Figure size 432x288 with 1 Axes>"
      ]
     },
     "metadata": {
      "needs_background": "light"
     },
     "output_type": "display_data"
    },
    {
     "data": {
      "image/png": "[encoded data removed]",
      "text/plain": [
       "<Figure size 432x288 with 1 Axes>"
      ]
     },
     "metadata": {
      "needs_background": "light"
     },
     "output_type": "display_data"
    },
    {
     "name": "stdout",
     "output_type": "stream",
     "text": [
      "31/31 [==============================] - 0s 2ms/step - loss: 0.1191 - accuracy: 0.9678\n",
      "Test loss: 0.11905937641859055\n",
      "Test accuracy: 0.9678423404693604\n"
     ]
    }
   ],
   "source": [
    "# 데이터 증강 적용\n",
    "train_generator = datagen.flow(X_train, y_train, batch_size=32)\n",
    "\n",
    "# 모델 학습\n",
    "history = model.fit(train_generator, validation_data=(X_test, y_test), epochs=50, verbose=1, callbacks=[checkpoint_cb, earlystopping_cb])\n",
    "\n",
    "# 학습 결과 시각화\n",
    "import matplotlib.pyplot as plt\n",
    "\n",
    "# 정확도 그래프\n",
    "plt.plot(history.history['accuracy'], label='train_accuracy')\n",
    "plt.plot(history.history['val_accuracy'], label='val_accuracy')\n",
    "plt.title('Model accuracy')\n",
    "plt.xlabel('Epoch')\n",
    "plt.ylabel('Accuracy')\n",
    "plt.legend()\n",
    "plt.show()\n",
    "\n",
    "# 손실 그래프\n",
    "plt.plot(history.history['loss'], label='train_loss')\n",
    "plt.plot(history.history['val_loss'], label='val_loss')\n",
    "plt.title('Model loss')\n",
    "plt.xlabel('Epoch')\n",
    "plt.ylabel('Loss')\n",
    "plt.legend()\n",
    "plt.show()\n",
    "\n",
    "# 모델 평가\n",
    "loss, accuracy = model.evaluate(X_test, y_test, verbose=1)\n",
    "print(f\"Test loss: {loss}\")\n",
    "print(f\"Test accuracy: {accuracy}\")"
   ]
  },
  {
   "cell_type": "code",
   "execution_count": 301,
   "id": "patient-gibson",
   "metadata": {},
   "outputs": [],
   "source": [
    "# 데이터 로드 함수\n",
    "def load_data(data_path):\n",
    "    imgs = []\n",
    "    labels = []\n",
    "    for label, folder in enumerate(['scissor', 'rock', 'paper']):\n",
    "        folder_path = os.path.join(data_path, folder)\n",
    "        for file in os.listdir(folder_path):\n",
    "            if file.endswith('.jpg'):\n",
    "                img = Image.open(os.path.join(folder_path, file))\n",
    "                img = img.resize((32, 32))  # 이미지 크기를 32x32로 맞춤\n",
    "                img = np.array(img)\n",
    "                imgs.append(img)\n",
    "                labels.append(label)\n",
    "    return np.array(imgs), np.array(labels)\n",
    "\n",
    "# 데이터 로드\n",
    "new_data_path = os.path.expanduser('~/contents/rock_scissor_paper')\n",
    "X2, y2 = load_data(new_data_path)"
   ]
  },
  {
   "cell_type": "code",
   "execution_count": 302,
   "id": "bottom-theater",
   "metadata": {},
   "outputs": [
    {
     "data": {
      "text/plain": [
       "(2410, 32, 32, 3)"
      ]
     },
     "execution_count": 302,
     "metadata": {},
     "output_type": "execute_result"
    }
   ],
   "source": [
    "X2.shape"
   ]
  },
  {
   "cell_type": "code",
   "execution_count": 303,
   "id": "trained-entity",
   "metadata": {},
   "outputs": [
    {
     "data": {
      "text/plain": [
       "(2410,)"
      ]
     },
     "execution_count": 303,
     "metadata": {},
     "output_type": "execute_result"
    }
   ],
   "source": [
    "y2.shape"
   ]
  },
  {
   "cell_type": "code",
   "execution_count": 304,
   "id": "emerging-eagle",
   "metadata": {},
   "outputs": [],
   "source": [
    "X_train2, X_test2, y_train2, y_test2 = train_test_split(X2, y2, test_size = 0.3, random_state = 42)"
   ]
  },
  {
   "cell_type": "code",
   "execution_count": 305,
   "id": "frequent-catering",
   "metadata": {},
   "outputs": [
    {
     "data": {
      "text/plain": [
       "((1687, 32, 32, 3), (1687,), (723, 32, 32, 3), (723,))"
      ]
     },
     "execution_count": 305,
     "metadata": {},
     "output_type": "execute_result"
    }
   ],
   "source": [
    "X_train2.shape, y_train2.shape, X_test2.shape, y_test2.shape"
   ]
  },
  {
   "cell_type": "code",
   "execution_count": 306,
   "id": "decent-default",
   "metadata": {},
   "outputs": [],
   "source": [
    "X_train2 = X_train2 / 255.0\n",
    "X_test2 = X_test2 / 255.0"
   ]
  },
  {
   "cell_type": "code",
   "execution_count": 307,
   "id": "destroyed-choir",
   "metadata": {},
   "outputs": [],
   "source": [
    "from tensorflow.keras.applications import VGG16"
   ]
  },
  {
   "cell_type": "code",
   "execution_count": 312,
   "id": "failing-extension",
   "metadata": {},
   "outputs": [],
   "source": [
    "base_model = VGG16(include_top = False, weights = 'imagenet', input_shape = (32, 32, 3))\n",
    "base_model.training = False\n",
    "\n",
    "model2 = Sequential([\n",
    "    base_model,\n",
    "    Dense(100, activation = 'relu'),\n",
    "    Dropout(0.5),\n",
    "    Dense(50, activation = 'relu'),\n",
    "    Dropout(0.5),\n",
    "    Dense(3, activation = 'softmax')\n",
    "])\n",
    "\n",
    "model2.compile(optimizer = 'adam', loss = 'sparse_categorical_crossentropy', metrics = ['accuracy'])"
   ]
  },
  {
   "cell_type": "code",
   "execution_count": 313,
   "id": "handed-accident",
   "metadata": {},
   "outputs": [
    {
     "data": {
      "text/plain": [
       "((1687, 32, 32, 3), (1687,), (723, 32, 32, 3), (723,))"
      ]
     },
     "execution_count": 313,
     "metadata": {},
     "output_type": "execute_result"
    }
   ],
   "source": [
    "X_train2.shape, y_train2.shape, X_test2.shape, y_test2.shape"
   ]
  },
  {
   "cell_type": "code",
   "execution_count": null,
   "id": "unique-victor",
   "metadata": {},
   "outputs": [
    {
     "name": "stdout",
     "output_type": "stream",
     "text": [
      "Epoch 1/100\n",
      "53/53 [==============================] - ETA: 0s - loss: 1.2437 - accuracy: 0.3717"
     ]
    }
   ],
   "source": [
    "history2 = model2.fit(X_train2, y_train2, validation_data = (X_test2, y_test2), epochs = 100)"
   ]
  },
  {
   "cell_type": "code",
   "execution_count": null,
   "id": "jewish-destination",
   "metadata": {},
   "outputs": [],
   "source": [
    "# 정확도 그래프\n",
    "plt.plot(history.history2['accuracy'], label='train_accuracy')\n",
    "plt.plot(history.history2['val_accuracy'], label='val_accuracy')\n",
    "plt.title('Model accuracy')\n",
    "plt.xlabel('Epoch')\n",
    "plt.ylabel('Accuracy')\n",
    "plt.legend()\n",
    "plt.show()\n",
    "\n",
    "# 손실 그래프\n",
    "plt.plot(history.history2['loss'], label='train_loss')\n",
    "plt.plot(history.history2['val_loss'], label='val_loss')\n",
    "plt.title('Model loss')\n",
    "plt.xlabel('Epoch')\n",
    "plt.ylabel('Loss')\n",
    "plt.legend()\n",
    "plt.show()\n",
    "\n",
    "# 모델 평가\n",
    "loss, accuracy = model.evaluate(X_test, y_test, verbose=1)\n",
    "print(f\"Test loss: {loss}\")\n",
    "print(f\"Test accuracy: {accuracy}\")"
   ]
  },
  {
   "cell_type": "code",
   "execution_count": null,
   "id": "oriented-sheet",
   "metadata": {},
   "outputs": [],
   "source": []
  }
 ],
 "metadata": {
  "kernelspec": {
   "display_name": "Python 3",
   "language": "python",
   "name": "python3"
  },
  "language_info": {
   "codemirror_mode": {
    "name": "ipython",
    "version": 3
   },
   "file_extension": ".py",
   "mimetype": "text/x-python",
   "name": "python",
   "nbconvert_exporter": "python",
   "pygments_lexer": "ipython3",
   "version": "3.8.6"
  }
 },
 "nbformat": 4,
 "nbformat_minor": 5
}
