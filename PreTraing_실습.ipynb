{
  "nbformat": 4,
  "nbformat_minor": 0,
  "metadata": {
    "colab": {
      "provenance": []
    },
    "kernelspec": {
      "name": "python3",
      "display_name": "Python 3"
    },
    "language_info": {
      "name": "python"
    }
  },
  "cells": [
    {
      "cell_type": "code",
      "execution_count": null,
      "metadata": {
        "id": "yB3mW7XPk-0S"
      },
      "outputs": [],
      "source": [
        "import tensorflow as tf\n",
        "from tensorflow import keras\n",
        "from tensorflow.keras import layers"
      ]
    },
    {
      "cell_type": "code",
      "source": [
        "base_model = keras.applications.ResNet50(weights = 'imagenet', include_top = False, input_shape = (224,224,3))"
      ],
      "metadata": {
        "colab": {
          "base_uri": "https://localhost:8080/"
        },
        "id": "fDKKDcSglYxw",
        "outputId": "e03c88d2-6eb7-450d-9ccb-38e87cb141a1"
      },
      "execution_count": null,
      "outputs": [
        {
          "output_type": "stream",
          "name": "stdout",
          "text": [
            "Downloading data from https://storage.googleapis.com/tensorflow/keras-applications/resnet/resnet50_weights_tf_dim_ordering_tf_kernels_notop.h5\n",
            "\u001b[1m94765736/94765736\u001b[0m \u001b[32m━━━━━━━━━━━━━━━━━━━━\u001b[0m\u001b[37m\u001b[0m \u001b[1m4s\u001b[0m 0us/step\n"
          ]
        }
      ]
    },
    {
      "cell_type": "code",
      "source": [
        "base_model.trainable = False # 사전훈련된 모델의 가중치를 고정할건지 말건지"
      ],
      "metadata": {
        "id": "laZyt7Tsl1q2"
      },
      "execution_count": null,
      "outputs": []
    },
    {
      "cell_type": "code",
      "source": [
        "model = keras.Sequential([\n",
        "    base_model,\n",
        "    layers.GlobalAveragePooling2D(),\n",
        "    layers.Dense(256, activation = 'relu'),\n",
        "    layers.Dropout(0.5),\n",
        "    layers.Dense(1, activation='sigmoid')\n",
        "]\n",
        "\n",
        ")"
      ],
      "metadata": {
        "id": "sanWFAfDpYZG"
      },
      "execution_count": null,
      "outputs": []
    },
    {
      "cell_type": "code",
      "source": [
        "# 모델 학습\n",
        "history = model.fit(\n",
        "    train_generator,\n",
        "    epochs=30,\n",
        "    validation_data=validation_generator,\n",
        "    callbacks=[checkpoint_cb, early_stopping_cb]\n",
        ")\n"
      ],
      "metadata": {
        "id": "0VgF6lgZqDl-"
      },
      "execution_count": null,
      "outputs": []
    },
    {
      "cell_type": "code",
      "source": [
        "# 필요 시 모델의 일부 레이어 미세 조정\n",
        "# base_model.trainable = True\n",
        "# for layer in base_model.layers[:140]:\n",
        "#     layer.trainable = False\n",
        "# model.compile(optimizer=keras.optimizers.Adam(1e-5), loss='categorical_crossentropy', metrics=['accuracy'])\n",
        "# history_fine = model.fit(\n",
        "#     train_generator,\n",
        "#     epochs=30,\n",
        "#     validation_data=validation_generator,\n",
        "#     callbacks=[checkpoint_cb, early_stopping_cb]\n",
        "# )"
      ],
      "metadata": {
        "id": "bx2WW2_0sYUX"
      },
      "execution_count": null,
      "outputs": []
    }
  ]
}